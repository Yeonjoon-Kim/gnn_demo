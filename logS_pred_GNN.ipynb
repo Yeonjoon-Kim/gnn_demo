{
  "nbformat": 4,
  "nbformat_minor": 0,
  "metadata": {
    "colab": {
      "provenance": [],
      "gpuType": "T4",
      "include_colab_link": true
    },
    "kernelspec": {
      "name": "python3",
      "display_name": "Python 3"
    },
    "language_info": {
      "name": "python"
    },
    "accelerator": "GPU"
  },
  "cells": [
    {
      "cell_type": "markdown",
      "metadata": {
        "id": "view-in-github",
        "colab_type": "text"
      },
      "source": [
        "<a href=\"https://colab.research.google.com/github/Yeonjoon-Kim/gnn_demo/blob/main/logS_pred_GNN.ipynb\" target=\"_parent\"><img src=\"https://colab.research.google.com/assets/colab-badge.svg\" alt=\"Open In Colab\"/></a>"
      ]
    },
    {
      "cell_type": "markdown",
      "source": [
        "Inspired by and modified from this colab notebook:\n",
        "\n",
        "https://colab.research.google.com/github/pstjohn/gnn-codecamp/blob/main/cetane_number_prediction.ipynb"
      ],
      "metadata": {
        "id": "RN4CXOdVEPWr"
      }
    },
    {
      "cell_type": "markdown",
      "metadata": {
        "id": "VL4Q-XjxAeN2"
      },
      "source": [
        "# Graph Neural Networks (GNNs) and molecular property prediction"
      ]
    },
    {
      "cell_type": "markdown",
      "metadata": {
        "id": "IR-xdEKtsJTm"
      },
      "source": [
        "## Enabling the GPU (Google Colab)\n",
        "\n",
        "To enable GPUs for the notebook:\n",
        "\n",
        "- Navigate to Edit→Notebook Settings\n",
        "- Select GPU from the Hardware Accelerator drop-down"
      ]
    },
    {
      "cell_type": "markdown",
      "metadata": {
        "id": "JnpMI771Bgog"
      },
      "source": [
        "# Linear regression and multi-layer perceptron"
      ]
    },
    {
      "cell_type": "code",
      "metadata": {
        "id": "yw4WnPKq0Q6e",
        "colab": {
          "base_uri": "https://localhost:8080/"
        },
        "outputId": "4efaa8bf-191b-4b54-b2d0-91bb40267115"
      },
      "source": [
        "!pip install rdkit-pypi"
      ],
      "execution_count": null,
      "outputs": [
        {
          "output_type": "stream",
          "name": "stdout",
          "text": [
            "Collecting rdkit-pypi\n",
            "  Downloading rdkit_pypi-2022.9.5-cp310-cp310-manylinux_2_17_x86_64.manylinux2014_x86_64.whl (29.4 MB)\n",
            "\u001b[2K     \u001b[90m━━━━━━━━━━━━━━━━━━━━━━━━━━━━━━━━━━━━━━━━\u001b[0m \u001b[32m29.4/29.4 MB\u001b[0m \u001b[31m21.0 MB/s\u001b[0m eta \u001b[36m0:00:00\u001b[0m\n",
            "\u001b[?25hRequirement already satisfied: numpy in /usr/local/lib/python3.10/dist-packages (from rdkit-pypi) (1.23.5)\n",
            "Requirement already satisfied: Pillow in /usr/local/lib/python3.10/dist-packages (from rdkit-pypi) (9.4.0)\n",
            "Installing collected packages: rdkit-pypi\n",
            "Successfully installed rdkit-pypi-2022.9.5\n"
          ]
        }
      ]
    },
    {
      "cell_type": "code",
      "metadata": {
        "id": "8F8jp8J_0NHc"
      },
      "source": [
        "import numpy as np\n",
        "import pandas as pd\n",
        "\n",
        "import rdkit\n",
        "from rdkit.Chem import AllChem"
      ],
      "execution_count": null,
      "outputs": []
    },
    {
      "cell_type": "code",
      "metadata": {
        "colab": {
          "base_uri": "https://localhost:8080/",
          "height": 429
        },
        "id": "KsA4E0H1wp2p",
        "outputId": "4282ffca-fd83-486d-f214-1da477203782"
      },
      "source": [
        "logS_data = pd.read_csv('AqsolDB_CHO.csv')\n",
        "logS_data.head()"
      ],
      "execution_count": null,
      "outputs": [
        {
          "output_type": "execute_result",
          "data": {
            "text/plain": [
              "     ID                                               Name  \\\n",
              "0  A-10                                       vinyltoluene   \n",
              "1  A-11               3-(3-ethylcyclopentyl)propanoic acid   \n",
              "2  A-12  11,16,17,21-tetrahydroxypregna-1,4-diene-3,20-...   \n",
              "3  A-15  1-[2-(benzoyloxy)propoxy]propan-2-yl benzoate ...   \n",
              "4  A-18               2-methyl-1-phenylpropan-2-yl acetate   \n",
              "\n",
              "                                               InChI  \\\n",
              "0  InChI=1S/C9H10/c1-3-9-6-4-5-8(2)7-9/h3-7H,1H2,2H3   \n",
              "1  InChI=1S/C10H18O2/c1-2-8-3-4-9(7-8)5-6-10(11)1...   \n",
              "2  InChI=1S/C21H28O6/c1-19-6-5-12(23)7-11(19)3-4-...   \n",
              "3  InChI=1S/C20H22O5/c21-19(17-9-3-1-4-10-17)24-1...   \n",
              "4  InChI=1S/C12H16O2/c1-10(13)14-12(2,3)9-11-7-5-...   \n",
              "\n",
              "                      InChIKey  \\\n",
              "0  JZHGRUMIRATHIU-UHFFFAOYSA-N   \n",
              "1  WVRFSLWCFASCIS-UHFFFAOYSA-N   \n",
              "2  SEKYBDYVXDAYPY-UHFFFAOYSA-N   \n",
              "3  BYQDGAVOOHIJQS-UHFFFAOYSA-N   \n",
              "4  FLUWAIIVLCVEKF-UHFFFAOYSA-N   \n",
              "\n",
              "                                              SMILES  Solubility        SD  \\\n",
              "0                                     Cc1cccc(C=C)c1   -3.123150  0.000000   \n",
              "1                                CCC1CCC(CCC(O)=O)C1   -3.286116  0.000000   \n",
              "2  CC12CC(O)C3C(CCC4=CC(=O)C=CC34C)C1CC(O)C2(O)C(...   -2.664549  0.000000   \n",
              "3                O=C(OCCCOCCCOC(=O)c1ccccc1)c2ccccc2   -4.595503  0.118551   \n",
              "4                            CC(=O)OC(C)(C)Cc1ccccc1   -2.394650  0.000000   \n",
              "\n",
              "   Ocurrences Group    MolWt  ...  NumValenceElectrons  NumAromaticRings  \\\n",
              "0           1    G1  118.179  ...                 46.0               1.0   \n",
              "1           1    G1  170.252  ...                 70.0               0.0   \n",
              "2           1    G1  376.449  ...                148.0               0.0   \n",
              "3           2    G3  342.391  ...                132.0               2.0   \n",
              "4           1    G1  192.258  ...                 76.0               1.0   \n",
              "\n",
              "   NumSaturatedRings  NumAliphaticRings  RingCount    TPSA   LabuteASA  \\\n",
              "0                0.0                0.0        1.0    0.00   55.836626   \n",
              "1                1.0                1.0        1.0   37.30   73.973655   \n",
              "2                3.0                4.0        4.0  115.06  158.135542   \n",
              "3                0.0                0.0        2.0   61.83  147.071714   \n",
              "4                0.0                0.0        1.0   26.30   84.896123   \n",
              "\n",
              "   BalabanJ     BertzCT  delete?  \n",
              "0  3.070761  211.033225    False  \n",
              "1  2.145839  153.917569    False  \n",
              "2  1.776978  755.770792    False  \n",
              "3  1.447050  582.150793    False  \n",
              "4  2.633870  301.357585    False  \n",
              "\n",
              "[5 rows x 27 columns]"
            ],
            "text/html": [
              "\n",
              "  <div id=\"df-e439294c-1713-4d14-960b-ec6932a105ff\" class=\"colab-df-container\">\n",
              "    <div>\n",
              "<style scoped>\n",
              "    .dataframe tbody tr th:only-of-type {\n",
              "        vertical-align: middle;\n",
              "    }\n",
              "\n",
              "    .dataframe tbody tr th {\n",
              "        vertical-align: top;\n",
              "    }\n",
              "\n",
              "    .dataframe thead th {\n",
              "        text-align: right;\n",
              "    }\n",
              "</style>\n",
              "<table border=\"1\" class=\"dataframe\">\n",
              "  <thead>\n",
              "    <tr style=\"text-align: right;\">\n",
              "      <th></th>\n",
              "      <th>ID</th>\n",
              "      <th>Name</th>\n",
              "      <th>InChI</th>\n",
              "      <th>InChIKey</th>\n",
              "      <th>SMILES</th>\n",
              "      <th>Solubility</th>\n",
              "      <th>SD</th>\n",
              "      <th>Ocurrences</th>\n",
              "      <th>Group</th>\n",
              "      <th>MolWt</th>\n",
              "      <th>...</th>\n",
              "      <th>NumValenceElectrons</th>\n",
              "      <th>NumAromaticRings</th>\n",
              "      <th>NumSaturatedRings</th>\n",
              "      <th>NumAliphaticRings</th>\n",
              "      <th>RingCount</th>\n",
              "      <th>TPSA</th>\n",
              "      <th>LabuteASA</th>\n",
              "      <th>BalabanJ</th>\n",
              "      <th>BertzCT</th>\n",
              "      <th>delete?</th>\n",
              "    </tr>\n",
              "  </thead>\n",
              "  <tbody>\n",
              "    <tr>\n",
              "      <th>0</th>\n",
              "      <td>A-10</td>\n",
              "      <td>vinyltoluene</td>\n",
              "      <td>InChI=1S/C9H10/c1-3-9-6-4-5-8(2)7-9/h3-7H,1H2,2H3</td>\n",
              "      <td>JZHGRUMIRATHIU-UHFFFAOYSA-N</td>\n",
              "      <td>Cc1cccc(C=C)c1</td>\n",
              "      <td>-3.123150</td>\n",
              "      <td>0.000000</td>\n",
              "      <td>1</td>\n",
              "      <td>G1</td>\n",
              "      <td>118.179</td>\n",
              "      <td>...</td>\n",
              "      <td>46.0</td>\n",
              "      <td>1.0</td>\n",
              "      <td>0.0</td>\n",
              "      <td>0.0</td>\n",
              "      <td>1.0</td>\n",
              "      <td>0.00</td>\n",
              "      <td>55.836626</td>\n",
              "      <td>3.070761</td>\n",
              "      <td>211.033225</td>\n",
              "      <td>False</td>\n",
              "    </tr>\n",
              "    <tr>\n",
              "      <th>1</th>\n",
              "      <td>A-11</td>\n",
              "      <td>3-(3-ethylcyclopentyl)propanoic acid</td>\n",
              "      <td>InChI=1S/C10H18O2/c1-2-8-3-4-9(7-8)5-6-10(11)1...</td>\n",
              "      <td>WVRFSLWCFASCIS-UHFFFAOYSA-N</td>\n",
              "      <td>CCC1CCC(CCC(O)=O)C1</td>\n",
              "      <td>-3.286116</td>\n",
              "      <td>0.000000</td>\n",
              "      <td>1</td>\n",
              "      <td>G1</td>\n",
              "      <td>170.252</td>\n",
              "      <td>...</td>\n",
              "      <td>70.0</td>\n",
              "      <td>0.0</td>\n",
              "      <td>1.0</td>\n",
              "      <td>1.0</td>\n",
              "      <td>1.0</td>\n",
              "      <td>37.30</td>\n",
              "      <td>73.973655</td>\n",
              "      <td>2.145839</td>\n",
              "      <td>153.917569</td>\n",
              "      <td>False</td>\n",
              "    </tr>\n",
              "    <tr>\n",
              "      <th>2</th>\n",
              "      <td>A-12</td>\n",
              "      <td>11,16,17,21-tetrahydroxypregna-1,4-diene-3,20-...</td>\n",
              "      <td>InChI=1S/C21H28O6/c1-19-6-5-12(23)7-11(19)3-4-...</td>\n",
              "      <td>SEKYBDYVXDAYPY-UHFFFAOYSA-N</td>\n",
              "      <td>CC12CC(O)C3C(CCC4=CC(=O)C=CC34C)C1CC(O)C2(O)C(...</td>\n",
              "      <td>-2.664549</td>\n",
              "      <td>0.000000</td>\n",
              "      <td>1</td>\n",
              "      <td>G1</td>\n",
              "      <td>376.449</td>\n",
              "      <td>...</td>\n",
              "      <td>148.0</td>\n",
              "      <td>0.0</td>\n",
              "      <td>3.0</td>\n",
              "      <td>4.0</td>\n",
              "      <td>4.0</td>\n",
              "      <td>115.06</td>\n",
              "      <td>158.135542</td>\n",
              "      <td>1.776978</td>\n",
              "      <td>755.770792</td>\n",
              "      <td>False</td>\n",
              "    </tr>\n",
              "    <tr>\n",
              "      <th>3</th>\n",
              "      <td>A-15</td>\n",
              "      <td>1-[2-(benzoyloxy)propoxy]propan-2-yl benzoate ...</td>\n",
              "      <td>InChI=1S/C20H22O5/c21-19(17-9-3-1-4-10-17)24-1...</td>\n",
              "      <td>BYQDGAVOOHIJQS-UHFFFAOYSA-N</td>\n",
              "      <td>O=C(OCCCOCCCOC(=O)c1ccccc1)c2ccccc2</td>\n",
              "      <td>-4.595503</td>\n",
              "      <td>0.118551</td>\n",
              "      <td>2</td>\n",
              "      <td>G3</td>\n",
              "      <td>342.391</td>\n",
              "      <td>...</td>\n",
              "      <td>132.0</td>\n",
              "      <td>2.0</td>\n",
              "      <td>0.0</td>\n",
              "      <td>0.0</td>\n",
              "      <td>2.0</td>\n",
              "      <td>61.83</td>\n",
              "      <td>147.071714</td>\n",
              "      <td>1.447050</td>\n",
              "      <td>582.150793</td>\n",
              "      <td>False</td>\n",
              "    </tr>\n",
              "    <tr>\n",
              "      <th>4</th>\n",
              "      <td>A-18</td>\n",
              "      <td>2-methyl-1-phenylpropan-2-yl acetate</td>\n",
              "      <td>InChI=1S/C12H16O2/c1-10(13)14-12(2,3)9-11-7-5-...</td>\n",
              "      <td>FLUWAIIVLCVEKF-UHFFFAOYSA-N</td>\n",
              "      <td>CC(=O)OC(C)(C)Cc1ccccc1</td>\n",
              "      <td>-2.394650</td>\n",
              "      <td>0.000000</td>\n",
              "      <td>1</td>\n",
              "      <td>G1</td>\n",
              "      <td>192.258</td>\n",
              "      <td>...</td>\n",
              "      <td>76.0</td>\n",
              "      <td>1.0</td>\n",
              "      <td>0.0</td>\n",
              "      <td>0.0</td>\n",
              "      <td>1.0</td>\n",
              "      <td>26.30</td>\n",
              "      <td>84.896123</td>\n",
              "      <td>2.633870</td>\n",
              "      <td>301.357585</td>\n",
              "      <td>False</td>\n",
              "    </tr>\n",
              "  </tbody>\n",
              "</table>\n",
              "<p>5 rows × 27 columns</p>\n",
              "</div>\n",
              "    <div class=\"colab-df-buttons\">\n",
              "\n",
              "  <div class=\"colab-df-container\">\n",
              "    <button class=\"colab-df-convert\" onclick=\"convertToInteractive('df-e439294c-1713-4d14-960b-ec6932a105ff')\"\n",
              "            title=\"Convert this dataframe to an interactive table.\"\n",
              "            style=\"display:none;\">\n",
              "\n",
              "  <svg xmlns=\"http://www.w3.org/2000/svg\" height=\"24px\" viewBox=\"0 -960 960 960\">\n",
              "    <path d=\"M120-120v-720h720v720H120Zm60-500h600v-160H180v160Zm220 220h160v-160H400v160Zm0 220h160v-160H400v160ZM180-400h160v-160H180v160Zm440 0h160v-160H620v160ZM180-180h160v-160H180v160Zm440 0h160v-160H620v160Z\"/>\n",
              "  </svg>\n",
              "    </button>\n",
              "\n",
              "  <style>\n",
              "    .colab-df-container {\n",
              "      display:flex;\n",
              "      gap: 12px;\n",
              "    }\n",
              "\n",
              "    .colab-df-convert {\n",
              "      background-color: #E8F0FE;\n",
              "      border: none;\n",
              "      border-radius: 50%;\n",
              "      cursor: pointer;\n",
              "      display: none;\n",
              "      fill: #1967D2;\n",
              "      height: 32px;\n",
              "      padding: 0 0 0 0;\n",
              "      width: 32px;\n",
              "    }\n",
              "\n",
              "    .colab-df-convert:hover {\n",
              "      background-color: #E2EBFA;\n",
              "      box-shadow: 0px 1px 2px rgba(60, 64, 67, 0.3), 0px 1px 3px 1px rgba(60, 64, 67, 0.15);\n",
              "      fill: #174EA6;\n",
              "    }\n",
              "\n",
              "    .colab-df-buttons div {\n",
              "      margin-bottom: 4px;\n",
              "    }\n",
              "\n",
              "    [theme=dark] .colab-df-convert {\n",
              "      background-color: #3B4455;\n",
              "      fill: #D2E3FC;\n",
              "    }\n",
              "\n",
              "    [theme=dark] .colab-df-convert:hover {\n",
              "      background-color: #434B5C;\n",
              "      box-shadow: 0px 1px 3px 1px rgba(0, 0, 0, 0.15);\n",
              "      filter: drop-shadow(0px 1px 2px rgba(0, 0, 0, 0.3));\n",
              "      fill: #FFFFFF;\n",
              "    }\n",
              "  </style>\n",
              "\n",
              "    <script>\n",
              "      const buttonEl =\n",
              "        document.querySelector('#df-e439294c-1713-4d14-960b-ec6932a105ff button.colab-df-convert');\n",
              "      buttonEl.style.display =\n",
              "        google.colab.kernel.accessAllowed ? 'block' : 'none';\n",
              "\n",
              "      async function convertToInteractive(key) {\n",
              "        const element = document.querySelector('#df-e439294c-1713-4d14-960b-ec6932a105ff');\n",
              "        const dataTable =\n",
              "          await google.colab.kernel.invokeFunction('convertToInteractive',\n",
              "                                                    [key], {});\n",
              "        if (!dataTable) return;\n",
              "\n",
              "        const docLinkHtml = 'Like what you see? Visit the ' +\n",
              "          '<a target=\"_blank\" href=https://colab.research.google.com/notebooks/data_table.ipynb>data table notebook</a>'\n",
              "          + ' to learn more about interactive tables.';\n",
              "        element.innerHTML = '';\n",
              "        dataTable['output_type'] = 'display_data';\n",
              "        await google.colab.output.renderOutput(dataTable, element);\n",
              "        const docLink = document.createElement('div');\n",
              "        docLink.innerHTML = docLinkHtml;\n",
              "        element.appendChild(docLink);\n",
              "      }\n",
              "    </script>\n",
              "  </div>\n",
              "\n",
              "\n",
              "<div id=\"df-96cc5fd2-1137-4ca2-afb0-c18e3810b338\">\n",
              "  <button class=\"colab-df-quickchart\" onclick=\"quickchart('df-96cc5fd2-1137-4ca2-afb0-c18e3810b338')\"\n",
              "            title=\"Suggest charts\"\n",
              "            style=\"display:none;\">\n",
              "\n",
              "<svg xmlns=\"http://www.w3.org/2000/svg\" height=\"24px\"viewBox=\"0 0 24 24\"\n",
              "     width=\"24px\">\n",
              "    <g>\n",
              "        <path d=\"M19 3H5c-1.1 0-2 .9-2 2v14c0 1.1.9 2 2 2h14c1.1 0 2-.9 2-2V5c0-1.1-.9-2-2-2zM9 17H7v-7h2v7zm4 0h-2V7h2v10zm4 0h-2v-4h2v4z\"/>\n",
              "    </g>\n",
              "</svg>\n",
              "  </button>\n",
              "\n",
              "<style>\n",
              "  .colab-df-quickchart {\n",
              "      --bg-color: #E8F0FE;\n",
              "      --fill-color: #1967D2;\n",
              "      --hover-bg-color: #E2EBFA;\n",
              "      --hover-fill-color: #174EA6;\n",
              "      --disabled-fill-color: #AAA;\n",
              "      --disabled-bg-color: #DDD;\n",
              "  }\n",
              "\n",
              "  [theme=dark] .colab-df-quickchart {\n",
              "      --bg-color: #3B4455;\n",
              "      --fill-color: #D2E3FC;\n",
              "      --hover-bg-color: #434B5C;\n",
              "      --hover-fill-color: #FFFFFF;\n",
              "      --disabled-bg-color: #3B4455;\n",
              "      --disabled-fill-color: #666;\n",
              "  }\n",
              "\n",
              "  .colab-df-quickchart {\n",
              "    background-color: var(--bg-color);\n",
              "    border: none;\n",
              "    border-radius: 50%;\n",
              "    cursor: pointer;\n",
              "    display: none;\n",
              "    fill: var(--fill-color);\n",
              "    height: 32px;\n",
              "    padding: 0;\n",
              "    width: 32px;\n",
              "  }\n",
              "\n",
              "  .colab-df-quickchart:hover {\n",
              "    background-color: var(--hover-bg-color);\n",
              "    box-shadow: 0 1px 2px rgba(60, 64, 67, 0.3), 0 1px 3px 1px rgba(60, 64, 67, 0.15);\n",
              "    fill: var(--button-hover-fill-color);\n",
              "  }\n",
              "\n",
              "  .colab-df-quickchart-complete:disabled,\n",
              "  .colab-df-quickchart-complete:disabled:hover {\n",
              "    background-color: var(--disabled-bg-color);\n",
              "    fill: var(--disabled-fill-color);\n",
              "    box-shadow: none;\n",
              "  }\n",
              "\n",
              "  .colab-df-spinner {\n",
              "    border: 2px solid var(--fill-color);\n",
              "    border-color: transparent;\n",
              "    border-bottom-color: var(--fill-color);\n",
              "    animation:\n",
              "      spin 1s steps(1) infinite;\n",
              "  }\n",
              "\n",
              "  @keyframes spin {\n",
              "    0% {\n",
              "      border-color: transparent;\n",
              "      border-bottom-color: var(--fill-color);\n",
              "      border-left-color: var(--fill-color);\n",
              "    }\n",
              "    20% {\n",
              "      border-color: transparent;\n",
              "      border-left-color: var(--fill-color);\n",
              "      border-top-color: var(--fill-color);\n",
              "    }\n",
              "    30% {\n",
              "      border-color: transparent;\n",
              "      border-left-color: var(--fill-color);\n",
              "      border-top-color: var(--fill-color);\n",
              "      border-right-color: var(--fill-color);\n",
              "    }\n",
              "    40% {\n",
              "      border-color: transparent;\n",
              "      border-right-color: var(--fill-color);\n",
              "      border-top-color: var(--fill-color);\n",
              "    }\n",
              "    60% {\n",
              "      border-color: transparent;\n",
              "      border-right-color: var(--fill-color);\n",
              "    }\n",
              "    80% {\n",
              "      border-color: transparent;\n",
              "      border-right-color: var(--fill-color);\n",
              "      border-bottom-color: var(--fill-color);\n",
              "    }\n",
              "    90% {\n",
              "      border-color: transparent;\n",
              "      border-bottom-color: var(--fill-color);\n",
              "    }\n",
              "  }\n",
              "</style>\n",
              "\n",
              "  <script>\n",
              "    async function quickchart(key) {\n",
              "      const quickchartButtonEl =\n",
              "        document.querySelector('#' + key + ' button');\n",
              "      quickchartButtonEl.disabled = true;  // To prevent multiple clicks.\n",
              "      quickchartButtonEl.classList.add('colab-df-spinner');\n",
              "      try {\n",
              "        const charts = await google.colab.kernel.invokeFunction(\n",
              "            'suggestCharts', [key], {});\n",
              "      } catch (error) {\n",
              "        console.error('Error during call to suggestCharts:', error);\n",
              "      }\n",
              "      quickchartButtonEl.classList.remove('colab-df-spinner');\n",
              "      quickchartButtonEl.classList.add('colab-df-quickchart-complete');\n",
              "    }\n",
              "    (() => {\n",
              "      let quickchartButtonEl =\n",
              "        document.querySelector('#df-96cc5fd2-1137-4ca2-afb0-c18e3810b338 button');\n",
              "      quickchartButtonEl.style.display =\n",
              "        google.colab.kernel.accessAllowed ? 'block' : 'none';\n",
              "    })();\n",
              "  </script>\n",
              "</div>\n",
              "    </div>\n",
              "  </div>\n"
            ]
          },
          "metadata": {},
          "execution_count": 4
        }
      ]
    },
    {
      "cell_type": "code",
      "metadata": {
        "colab": {
          "base_uri": "https://localhost:8080/",
          "height": 447
        },
        "id": "0HmxZ7Th8Spb",
        "outputId": "179046fd-fc3e-48ad-8dfd-920bae0b4789"
      },
      "source": [
        "logS_data.Solubility.plot.hist()"
      ],
      "execution_count": null,
      "outputs": [
        {
          "output_type": "execute_result",
          "data": {
            "text/plain": [
              "<Axes: ylabel='Frequency'>"
            ]
          },
          "metadata": {},
          "execution_count": 5
        },
        {
          "output_type": "display_data",
          "data": {
            "text/plain": [
              "<Figure size 640x480 with 1 Axes>"
            ],
            "image/png": "[encoded data removed]"
          },
          "metadata": {}
        }
      ]
    },
    {
      "cell_type": "code",
      "metadata": {
        "id": "19z-1YSV1WpX"
      },
      "source": [
        "logS_test = logS_data.sample(frac=0.2, random_state=42)\n",
        "logS_train = logS_data[~logS_data.index.isin(logS_test.index)]"
      ],
      "execution_count": null,
      "outputs": []
    },
    {
      "cell_type": "code",
      "metadata": {
        "id": "kqeMiBDX1rbF"
      },
      "source": [
        "def get_morgan_fingerprint(smiles, radius=2, nBits=1024):\n",
        "  mol = rdkit.Chem.MolFromSmiles(smiles)\n",
        "  bv = AllChem.GetMorganFingerprintAsBitVect(mol, radius, nBits=nBits)\n",
        "  return np.asarray(bv)\n",
        "\n",
        "def get_all_fingerprints(smiles_series):\n",
        "  fingerprints = np.vstack(smiles_series.apply(get_morgan_fingerprint).values)\n",
        "  return fingerprints"
      ],
      "execution_count": null,
      "outputs": []
    },
    {
      "cell_type": "code",
      "metadata": {
        "id": "VSPX3nx61vYe"
      },
      "source": [
        "fingerprints_train = get_all_fingerprints(logS_train.SMILES)\n",
        "fingerprints_test = get_all_fingerprints(logS_test.SMILES)"
      ],
      "execution_count": null,
      "outputs": []
    },
    {
      "cell_type": "markdown",
      "metadata": {
        "id": "plhkhfotDXnz"
      },
      "source": [
        "### First, try a simple linear regression (using scikit-learn)"
      ]
    },
    {
      "cell_type": "code",
      "metadata": {
        "id": "9QHdDr3jCRna"
      },
      "source": [
        "from sklearn.linear_model import LinearRegression\n",
        "from sklearn.decomposition import PCA\n",
        "from sklearn.pipeline import make_pipeline\n",
        "\n",
        "linear_model = make_pipeline(PCA(n_components=25, whiten=True), LinearRegression())\n",
        "\n",
        "linear_model.fit(fingerprints_train, logS_train.Solubility)\n",
        "logS_test_pred = linear_model.predict(fingerprints_test)"
      ],
      "execution_count": null,
      "outputs": []
    },
    {
      "cell_type": "code",
      "metadata": {
        "id": "7aMGzvHTCkrU",
        "outputId": "4f611471-ea79-42dc-d02f-d9090d31006e",
        "colab": {
          "base_uri": "https://localhost:8080/"
        }
      },
      "source": [
        "(logS_test_pred - logS_test.Solubility).abs().mean()"
      ],
      "execution_count": null,
      "outputs": [
        {
          "output_type": "execute_result",
          "data": {
            "text/plain": [
              "1.1954016378010626"
            ]
          },
          "metadata": {},
          "execution_count": 10
        }
      ]
    },
    {
      "cell_type": "markdown",
      "metadata": {
        "id": "rXr2-QWJDnUA"
      },
      "source": [
        "### Next, let's try a simple Multi-layer perceptron"
      ]
    },
    {
      "cell_type": "code",
      "metadata": {
        "colab": {
          "base_uri": "https://localhost:8080/",
          "height": 35
        },
        "id": "Hbq6yBbt0A8Y",
        "outputId": "814bfa43-eb4a-41c6-c762-8d3e7d0ec219"
      },
      "source": [
        "import tensorflow as tf\n",
        "from tensorflow.keras import layers\n",
        "tf.__version__"
      ],
      "execution_count": null,
      "outputs": [
        {
          "output_type": "execute_result",
          "data": {
            "text/plain": [
              "'2.14.0'"
            ],
            "application/vnd.google.colaboratory.intrinsic+json": {
              "type": "string"
            }
          },
          "metadata": {},
          "execution_count": 11
        }
      ]
    },
    {
      "cell_type": "code",
      "metadata": {
        "id": "IRSOk6nm7cwJ"
      },
      "source": [
        "input = layers.Input(shape=(1024), name='fingerprint', dtype='int64')\n",
        "out = layers.Dense(128, activation='relu')(input)\n",
        "out = layers.BatchNormalization()(out)\n",
        "out = layers.Dense(64, activation='relu')(out)\n",
        "out = layers.BatchNormalization()(out)\n",
        "out = layers.Dense(1)(out)\n",
        "\n",
        "mlp_model = tf.keras.Model(input, out)"
      ],
      "execution_count": null,
      "outputs": []
    },
    {
      "cell_type": "code",
      "metadata": {
        "id": "MHTTwtEo8FQh"
      },
      "source": [
        "opt = tf.keras.optimizers.Adam(learning_rate=1E-2)\n",
        "mlp_model.compile(optimizer=opt, loss='mae')"
      ],
      "execution_count": null,
      "outputs": []
    },
    {
      "cell_type": "code",
      "metadata": {
        "colab": {
          "base_uri": "https://localhost:8080/"
        },
        "id": "pln8ZRnk8zC7",
        "outputId": "cf45fea3-aee0-4126-c50b-94abf5183b17"
      },
      "source": [
        "hist = mlp_model.fit(x=fingerprints_train, y=logS_train.Solubility,\n",
        "                     validation_data=(fingerprints_test, logS_test.Solubility),\n",
        "                     epochs=30, batch_size=32, verbose=2)"
      ],
      "execution_count": null,
      "outputs": [
        {
          "output_type": "stream",
          "name": "stdout",
          "text": [
            "Epoch 1/30\n",
            "66/66 - 7s - loss: 1.6195 - val_loss: 1.4812 - 7s/epoch - 103ms/step\n",
            "Epoch 2/30\n",
            "66/66 - 0s - loss: 0.9936 - val_loss: 1.0780 - 321ms/epoch - 5ms/step\n",
            "Epoch 3/30\n",
            "66/66 - 0s - loss: 0.8301 - val_loss: 0.9513 - 320ms/epoch - 5ms/step\n",
            "Epoch 4/30\n",
            "66/66 - 0s - loss: 0.8214 - val_loss: 0.9080 - 302ms/epoch - 5ms/step\n",
            "Epoch 5/30\n",
            "66/66 - 0s - loss: 0.7490 - val_loss: 1.0280 - 288ms/epoch - 4ms/step\n",
            "Epoch 6/30\n",
            "66/66 - 0s - loss: 0.7451 - val_loss: 0.8637 - 314ms/epoch - 5ms/step\n",
            "Epoch 7/30\n",
            "66/66 - 0s - loss: 0.6941 - val_loss: 1.0225 - 331ms/epoch - 5ms/step\n",
            "Epoch 8/30\n",
            "66/66 - 0s - loss: 0.6494 - val_loss: 0.9180 - 288ms/epoch - 4ms/step\n",
            "Epoch 9/30\n",
            "66/66 - 0s - loss: 0.6473 - val_loss: 0.8892 - 288ms/epoch - 4ms/step\n",
            "Epoch 10/30\n",
            "66/66 - 0s - loss: 0.6454 - val_loss: 0.9041 - 298ms/epoch - 5ms/step\n",
            "Epoch 11/30\n",
            "66/66 - 0s - loss: 0.6747 - val_loss: 0.9822 - 304ms/epoch - 5ms/step\n",
            "Epoch 12/30\n",
            "66/66 - 0s - loss: 0.6476 - val_loss: 0.9199 - 283ms/epoch - 4ms/step\n",
            "Epoch 13/30\n",
            "66/66 - 0s - loss: 0.6333 - val_loss: 0.9011 - 286ms/epoch - 4ms/step\n",
            "Epoch 14/30\n",
            "66/66 - 0s - loss: 0.6333 - val_loss: 0.8456 - 328ms/epoch - 5ms/step\n",
            "Epoch 15/30\n",
            "66/66 - 0s - loss: 0.5961 - val_loss: 0.8624 - 289ms/epoch - 4ms/step\n",
            "Epoch 16/30\n",
            "66/66 - 0s - loss: 0.6276 - val_loss: 0.8294 - 288ms/epoch - 4ms/step\n",
            "Epoch 17/30\n",
            "66/66 - 0s - loss: 0.5674 - val_loss: 0.9079 - 327ms/epoch - 5ms/step\n",
            "Epoch 18/30\n",
            "66/66 - 0s - loss: 0.6139 - val_loss: 0.8819 - 322ms/epoch - 5ms/step\n",
            "Epoch 19/30\n",
            "66/66 - 0s - loss: 0.5969 - val_loss: 0.8467 - 285ms/epoch - 4ms/step\n",
            "Epoch 20/30\n",
            "66/66 - 0s - loss: 0.5552 - val_loss: 0.8341 - 285ms/epoch - 4ms/step\n",
            "Epoch 21/30\n",
            "66/66 - 0s - loss: 0.5889 - val_loss: 0.8596 - 330ms/epoch - 5ms/step\n",
            "Epoch 22/30\n",
            "66/66 - 0s - loss: 0.5979 - val_loss: 0.8527 - 327ms/epoch - 5ms/step\n",
            "Epoch 23/30\n",
            "66/66 - 0s - loss: 0.5711 - val_loss: 0.8439 - 429ms/epoch - 6ms/step\n",
            "Epoch 24/30\n",
            "66/66 - 0s - loss: 0.5805 - val_loss: 0.8411 - 428ms/epoch - 6ms/step\n",
            "Epoch 25/30\n",
            "66/66 - 0s - loss: 0.6121 - val_loss: 0.8314 - 413ms/epoch - 6ms/step\n",
            "Epoch 26/30\n",
            "66/66 - 0s - loss: 0.5652 - val_loss: 0.8210 - 447ms/epoch - 7ms/step\n",
            "Epoch 27/30\n",
            "66/66 - 0s - loss: 0.5530 - val_loss: 0.9459 - 458ms/epoch - 7ms/step\n",
            "Epoch 28/30\n",
            "66/66 - 0s - loss: 0.5256 - val_loss: 0.8627 - 430ms/epoch - 7ms/step\n",
            "Epoch 29/30\n",
            "66/66 - 0s - loss: 0.5458 - val_loss: 0.9436 - 487ms/epoch - 7ms/step\n",
            "Epoch 30/30\n",
            "66/66 - 0s - loss: 0.5346 - val_loss: 0.8460 - 412ms/epoch - 6ms/step\n"
          ]
        }
      ]
    },
    {
      "cell_type": "code",
      "metadata": {
        "id": "LL6L4IZh9eLn"
      },
      "source": [
        "import matplotlib.pyplot as plt\n",
        "%matplotlib inline"
      ],
      "execution_count": null,
      "outputs": []
    },
    {
      "cell_type": "code",
      "metadata": {
        "colab": {
          "base_uri": "https://localhost:8080/",
          "height": 447
        },
        "id": "UbSkC4sH9rDw",
        "outputId": "f2ccab71-b43f-4216-85a4-e5fddf49a125"
      },
      "source": [
        "pd.DataFrame(hist.history).plot.line()"
      ],
      "execution_count": null,
      "outputs": [
        {
          "output_type": "execute_result",
          "data": {
            "text/plain": [
              "<Axes: >"
            ]
          },
          "metadata": {},
          "execution_count": 16
        },
        {
          "output_type": "display_data",
          "data": {
            "text/plain": [
              "<Figure size 640x480 with 1 Axes>"
            ],
            "image/png": "[encoded data removed]"
          },
          "metadata": {}
        }
      ]
    },
    {
      "cell_type": "code",
      "metadata": {
        "id": "1_ro1Uwp-hoO",
        "colab": {
          "base_uri": "https://localhost:8080/"
        },
        "outputId": "37718987-74ec-4882-bfc0-6cb42aa49faa"
      },
      "source": [
        "mlp_model.predict(get_morgan_fingerprint('CC(C)COCC(C)C').reshape(1, -1))"
      ],
      "execution_count": null,
      "outputs": [
        {
          "output_type": "stream",
          "name": "stdout",
          "text": [
            "1/1 [==============================] - 0s 99ms/step\n"
          ]
        },
        {
          "output_type": "execute_result",
          "data": {
            "text/plain": [
              "array([[-1.2657049]], dtype=float32)"
            ]
          },
          "metadata": {},
          "execution_count": 17
        }
      ]
    },
    {
      "cell_type": "markdown",
      "metadata": {
        "id": "thj-YFvADuhr"
      },
      "source": [
        "## Creating a GNN\n",
        "First, we need to install our GNN dependency [nfp](github.com/nrel/nfp)"
      ]
    },
    {
      "cell_type": "code",
      "metadata": {
        "colab": {
          "base_uri": "https://localhost:8080/"
        },
        "id": "mHeNwOgTspfo",
        "outputId": "cab8844b-20d4-4110-e235-89506b2c9295"
      },
      "source": [
        "!pip install nfp==0.3.0"
      ],
      "execution_count": null,
      "outputs": [
        {
          "output_type": "stream",
          "name": "stdout",
          "text": [
            "Collecting nfp==0.3.0\n",
            "  Downloading nfp-0.3.0-py3-none-any.whl (12 kB)\n",
            "Requirement already satisfied: numpy in /usr/local/lib/python3.10/dist-packages (from nfp==0.3.0) (1.23.5)\n",
            "Requirement already satisfied: tqdm in /usr/local/lib/python3.10/dist-packages (from nfp==0.3.0) (4.66.1)\n",
            "Requirement already satisfied: tensorflow>=2.0 in /usr/local/lib/python3.10/dist-packages (from nfp==0.3.0) (2.14.0)\n",
            "Requirement already satisfied: absl-py>=1.0.0 in /usr/local/lib/python3.10/dist-packages (from tensorflow>=2.0->nfp==0.3.0) (1.4.0)\n",
            "Requirement already satisfied: astunparse>=1.6.0 in /usr/local/lib/python3.10/dist-packages (from tensorflow>=2.0->nfp==0.3.0) (1.6.3)\n",
            "Requirement already satisfied: flatbuffers>=23.5.26 in /usr/local/lib/python3.10/dist-packages (from tensorflow>=2.0->nfp==0.3.0) (23.5.26)\n",
            "Requirement already satisfied: gast!=0.5.0,!=0.5.1,!=0.5.2,>=0.2.1 in /usr/local/lib/python3.10/dist-packages (from tensorflow>=2.0->nfp==0.3.0) (0.5.4)\n",
            "Requirement already satisfied: google-pasta>=0.1.1 in /usr/local/lib/python3.10/dist-packages (from tensorflow>=2.0->nfp==0.3.0) (0.2.0)\n",
            "Requirement already satisfied: h5py>=2.9.0 in /usr/local/lib/python3.10/dist-packages (from tensorflow>=2.0->nfp==0.3.0) (3.9.0)\n",
            "Requirement already satisfied: libclang>=13.0.0 in /usr/local/lib/python3.10/dist-packages (from tensorflow>=2.0->nfp==0.3.0) (16.0.6)\n",
            "Requirement already satisfied: ml-dtypes==0.2.0 in /usr/local/lib/python3.10/dist-packages (from tensorflow>=2.0->nfp==0.3.0) (0.2.0)\n",
            "Requirement already satisfied: opt-einsum>=2.3.2 in /usr/local/lib/python3.10/dist-packages (from tensorflow>=2.0->nfp==0.3.0) (3.3.0)\n",
            "Requirement already satisfied: packaging in /usr/local/lib/python3.10/dist-packages (from tensorflow>=2.0->nfp==0.3.0) (23.2)\n",
            "Requirement already satisfied: protobuf!=4.21.0,!=4.21.1,!=4.21.2,!=4.21.3,!=4.21.4,!=4.21.5,<5.0.0dev,>=3.20.3 in /usr/local/lib/python3.10/dist-packages (from tensorflow>=2.0->nfp==0.3.0) (3.20.3)\n",
            "Requirement already satisfied: setuptools in /usr/local/lib/python3.10/dist-packages (from tensorflow>=2.0->nfp==0.3.0) (67.7.2)\n",
            "Requirement already satisfied: six>=1.12.0 in /usr/local/lib/python3.10/dist-packages (from tensorflow>=2.0->nfp==0.3.0) (1.16.0)\n",
            "Requirement already satisfied: termcolor>=1.1.0 in /usr/local/lib/python3.10/dist-packages (from tensorflow>=2.0->nfp==0.3.0) (2.3.0)\n",
            "Requirement already satisfied: typing-extensions>=3.6.6 in /usr/local/lib/python3.10/dist-packages (from tensorflow>=2.0->nfp==0.3.0) (4.5.0)\n",
            "Requirement already satisfied: wrapt<1.15,>=1.11.0 in /usr/local/lib/python3.10/dist-packages (from tensorflow>=2.0->nfp==0.3.0) (1.14.1)\n",
            "Requirement already satisfied: tensorflow-io-gcs-filesystem>=0.23.1 in /usr/local/lib/python3.10/dist-packages (from tensorflow>=2.0->nfp==0.3.0) (0.34.0)\n",
            "Requirement already satisfied: grpcio<2.0,>=1.24.3 in /usr/local/lib/python3.10/dist-packages (from tensorflow>=2.0->nfp==0.3.0) (1.59.3)\n",
            "Requirement already satisfied: tensorboard<2.15,>=2.14 in /usr/local/lib/python3.10/dist-packages (from tensorflow>=2.0->nfp==0.3.0) (2.14.1)\n",
            "Requirement already satisfied: tensorflow-estimator<2.15,>=2.14.0 in /usr/local/lib/python3.10/dist-packages (from tensorflow>=2.0->nfp==0.3.0) (2.14.0)\n",
            "Requirement already satisfied: keras<2.15,>=2.14.0 in /usr/local/lib/python3.10/dist-packages (from tensorflow>=2.0->nfp==0.3.0) (2.14.0)\n",
            "Requirement already satisfied: wheel<1.0,>=0.23.0 in /usr/local/lib/python3.10/dist-packages (from astunparse>=1.6.0->tensorflow>=2.0->nfp==0.3.0) (0.42.0)\n",
            "Requirement already satisfied: google-auth<3,>=1.6.3 in /usr/local/lib/python3.10/dist-packages (from tensorboard<2.15,>=2.14->tensorflow>=2.0->nfp==0.3.0) (2.17.3)\n",
            "Requirement already satisfied: google-auth-oauthlib<1.1,>=0.5 in /usr/local/lib/python3.10/dist-packages (from tensorboard<2.15,>=2.14->tensorflow>=2.0->nfp==0.3.0) (1.0.0)\n",
            "Requirement already satisfied: markdown>=2.6.8 in /usr/local/lib/python3.10/dist-packages (from tensorboard<2.15,>=2.14->tensorflow>=2.0->nfp==0.3.0) (3.5.1)\n",
            "Requirement already satisfied: requests<3,>=2.21.0 in /usr/local/lib/python3.10/dist-packages (from tensorboard<2.15,>=2.14->tensorflow>=2.0->nfp==0.3.0) (2.31.0)\n",
            "Requirement already satisfied: tensorboard-data-server<0.8.0,>=0.7.0 in /usr/local/lib/python3.10/dist-packages (from tensorboard<2.15,>=2.14->tensorflow>=2.0->nfp==0.3.0) (0.7.2)\n",
            "Requirement already satisfied: werkzeug>=1.0.1 in /usr/local/lib/python3.10/dist-packages (from tensorboard<2.15,>=2.14->tensorflow>=2.0->nfp==0.3.0) (3.0.1)\n",
            "Requirement already satisfied: cachetools<6.0,>=2.0.0 in /usr/local/lib/python3.10/dist-packages (from google-auth<3,>=1.6.3->tensorboard<2.15,>=2.14->tensorflow>=2.0->nfp==0.3.0) (5.3.2)\n",
            "Requirement already satisfied: pyasn1-modules>=0.2.1 in /usr/local/lib/python3.10/dist-packages (from google-auth<3,>=1.6.3->tensorboard<2.15,>=2.14->tensorflow>=2.0->nfp==0.3.0) (0.3.0)\n",
            "Requirement already satisfied: rsa<5,>=3.1.4 in /usr/local/lib/python3.10/dist-packages (from google-auth<3,>=1.6.3->tensorboard<2.15,>=2.14->tensorflow>=2.0->nfp==0.3.0) (4.9)\n",
            "Requirement already satisfied: requests-oauthlib>=0.7.0 in /usr/local/lib/python3.10/dist-packages (from google-auth-oauthlib<1.1,>=0.5->tensorboard<2.15,>=2.14->tensorflow>=2.0->nfp==0.3.0) (1.3.1)\n",
            "Requirement already satisfied: charset-normalizer<4,>=2 in /usr/local/lib/python3.10/dist-packages (from requests<3,>=2.21.0->tensorboard<2.15,>=2.14->tensorflow>=2.0->nfp==0.3.0) (3.3.2)\n",
            "Requirement already satisfied: idna<4,>=2.5 in /usr/local/lib/python3.10/dist-packages (from requests<3,>=2.21.0->tensorboard<2.15,>=2.14->tensorflow>=2.0->nfp==0.3.0) (3.6)\n",
            "Requirement already satisfied: urllib3<3,>=1.21.1 in /usr/local/lib/python3.10/dist-packages (from requests<3,>=2.21.0->tensorboard<2.15,>=2.14->tensorflow>=2.0->nfp==0.3.0) (2.0.7)\n",
            "Requirement already satisfied: certifi>=2017.4.17 in /usr/local/lib/python3.10/dist-packages (from requests<3,>=2.21.0->tensorboard<2.15,>=2.14->tensorflow>=2.0->nfp==0.3.0) (2023.11.17)\n",
            "Requirement already satisfied: MarkupSafe>=2.1.1 in /usr/local/lib/python3.10/dist-packages (from werkzeug>=1.0.1->tensorboard<2.15,>=2.14->tensorflow>=2.0->nfp==0.3.0) (2.1.3)\n",
            "Requirement already satisfied: pyasn1<0.6.0,>=0.4.6 in /usr/local/lib/python3.10/dist-packages (from pyasn1-modules>=0.2.1->google-auth<3,>=1.6.3->tensorboard<2.15,>=2.14->tensorflow>=2.0->nfp==0.3.0) (0.5.1)\n",
            "Requirement already satisfied: oauthlib>=3.0.0 in /usr/local/lib/python3.10/dist-packages (from requests-oauthlib>=0.7.0->google-auth-oauthlib<1.1,>=0.5->tensorboard<2.15,>=2.14->tensorflow>=2.0->nfp==0.3.0) (3.2.2)\n",
            "Installing collected packages: nfp\n",
            "Successfully installed nfp-0.3.0\n"
          ]
        }
      ]
    },
    {
      "cell_type": "markdown",
      "metadata": {
        "id": "dWClPqLoD6s9"
      },
      "source": [
        "Define how we want to featurize atoms and bonds"
      ]
    },
    {
      "cell_type": "code",
      "metadata": {
        "id": "1EPh8lO5srOX"
      },
      "source": [
        "import nfp\n",
        "from collections import namedtuple\n",
        "\n",
        "atom_type = namedtuple('Atom', ['symbol', 'aromatic', 'ring_size', 'degree', 'totalHs'])\n",
        "bond_type = namedtuple('Bond', ['bond_type', 'degree', 'ring_size'])\n",
        "\n",
        "def atom_featurizer(atom):\n",
        "    \"\"\" Return an string representing the atom type\n",
        "    \"\"\"\n",
        "\n",
        "    return atom_type(\n",
        "        atom.GetSymbol(),\n",
        "        atom.GetIsAromatic(),\n",
        "        nfp.get_ring_size(atom, max_size=6),\n",
        "        atom.GetDegree(),\n",
        "        atom.GetTotalNumHs(includeNeighbors=True)\n",
        "    )\n",
        "\n",
        "def bond_featurizer(bond, flipped=False):\n",
        "    \"\"\" Get a similar classification of the bond type.\n",
        "    Flipped indicates which 'direction' the bond edge is pointing. \"\"\"\n",
        "\n",
        "    if not flipped:\n",
        "        atoms = \"{}-{}\".format(\n",
        "            *tuple((bond.GetBeginAtom().GetSymbol(),\n",
        "                    bond.GetEndAtom().GetSymbol())))\n",
        "    else:\n",
        "        atoms = \"{}-{}\".format(\n",
        "            *tuple((bond.GetEndAtom().GetSymbol(),\n",
        "                    bond.GetBeginAtom().GetSymbol())))\n",
        "\n",
        "    btype = str(bond.GetBondType())\n",
        "    ring = nfp.get_ring_size(bond, max_size=6) if bond.IsInRing() else None\n",
        "\n",
        "    return bond_type(atoms, btype, ring)"
      ],
      "execution_count": null,
      "outputs": []
    },
    {
      "cell_type": "code",
      "metadata": {
        "id": "IWyw8dW7_9x5"
      },
      "source": [
        "mol = rdkit.Chem.MolFromSmiles('CC(C)COCC(C)C')"
      ],
      "execution_count": null,
      "outputs": []
    },
    {
      "cell_type": "code",
      "metadata": {
        "colab": {
          "base_uri": "https://localhost:8080/"
        },
        "id": "JdDczHMiC7dH",
        "outputId": "d69371e7-d676-4789-ccd5-c599057b1be5"
      },
      "source": [
        "atom_featurizer(mol.GetAtoms()[0])"
      ],
      "execution_count": null,
      "outputs": [
        {
          "output_type": "execute_result",
          "data": {
            "text/plain": [
              "Atom(symbol='C', aromatic=False, ring_size=0, degree=1, totalHs=3)"
            ]
          },
          "metadata": {},
          "execution_count": 21
        }
      ]
    },
    {
      "cell_type": "code",
      "metadata": {
        "colab": {
          "base_uri": "https://localhost:8080/"
        },
        "id": "KOAAuLobEv7w",
        "outputId": "7cfb72eb-b613-428c-8fe5-a3e6defe3bdf"
      },
      "source": [
        "bond_featurizer(mol.GetBonds()[0])"
      ],
      "execution_count": null,
      "outputs": [
        {
          "output_type": "execute_result",
          "data": {
            "text/plain": [
              "Bond(bond_type='C-C', degree='SINGLE', ring_size=None)"
            ]
          },
          "metadata": {},
          "execution_count": 22
        }
      ]
    },
    {
      "cell_type": "code",
      "metadata": {
        "id": "SBHgNxlpC9OX"
      },
      "source": [
        "preprocessor = nfp.SmilesPreprocessor(atom_features=atom_featurizer,\n",
        "                                      bond_features=bond_featurizer,\n",
        "                                      explicit_hs=False)"
      ],
      "execution_count": null,
      "outputs": []
    },
    {
      "cell_type": "code",
      "metadata": {
        "colab": {
          "base_uri": "https://localhost:8080/"
        },
        "id": "qbhMir76E0Nf",
        "outputId": "e0a6cd5d-e0c4-4576-8812-2990d3938811"
      },
      "source": [
        "pd.Series(preprocessor.atom_tokenizer._data)"
      ],
      "execution_count": null,
      "outputs": [
        {
          "output_type": "execute_result",
          "data": {
            "text/plain": [
              "unk    1\n",
              "dtype: int64"
            ]
          },
          "metadata": {},
          "execution_count": 24
        }
      ]
    },
    {
      "cell_type": "code",
      "metadata": {
        "id": "vLfHxfFPE1_W"
      },
      "source": [
        "for smiles in logS_train.SMILES:\n",
        "  preprocessor.construct_feature_matrices(smiles, train=True)"
      ],
      "execution_count": null,
      "outputs": []
    },
    {
      "cell_type": "code",
      "metadata": {
        "colab": {
          "base_uri": "https://localhost:8080/"
        },
        "id": "mX-yiScNFFrK",
        "outputId": "fbe63147-a521-430d-d7f5-2cf8d30d7e64"
      },
      "source": [
        "pd.Series(preprocessor.atom_tokenizer._data)"
      ],
      "execution_count": null,
      "outputs": [
        {
          "output_type": "execute_result",
          "data": {
            "text/plain": [
              "unk                       1\n",
              "(C, False, 0, 1, 3)       2\n",
              "(C, True, max, 3, 0)      3\n",
              "(C, True, max, 2, 1)      4\n",
              "(C, False, 0, 2, 1)       5\n",
              "(C, False, 0, 1, 2)       6\n",
              "(C, False, 0, 2, 2)       7\n",
              "(C, False, 5, 3, 1)       8\n",
              "(C, False, 5, 2, 2)       9\n",
              "(C, False, 0, 3, 0)      10\n",
              "(O, False, 0, 1, 1)      11\n",
              "(O, False, 0, 1, 0)      12\n",
              "(C, False, 5, 4, 0)      13\n",
              "(C, False, max, 2, 2)    14\n",
              "(C, False, max, 3, 1)    15\n",
              "(C, False, max, 3, 0)    16\n",
              "(C, False, max, 2, 1)    17\n",
              "(C, False, max, 4, 0)    18\n",
              "(O, False, 0, 2, 0)      19\n",
              "(C, False, 0, 4, 0)      20\n",
              "(C, False, 3, 3, 1)      21\n",
              "(C, False, 3, 2, 2)      22\n",
              "(O, False, 3, 2, 0)      23\n",
              "(C, False, 0, 3, 1)      24\n",
              "(C, False, 4, 4, 0)      25\n",
              "(C, False, 4, 3, 1)      26\n",
              "(C, False, 4, 2, 2)      27\n",
              "(C, False, 3, 4, 0)      28\n",
              "(C, True, 5, 3, 0)       29\n",
              "(O, False, 5, 2, 0)      30\n",
              "(C, False, 5, 3, 0)      31\n",
              "(O, True, max, 2, 0)     32\n",
              "(O, False, max, 2, 0)    33\n",
              "(C, False, 0, 2, 0)      34\n",
              "(C, False, 0, 1, 1)      35\n",
              "(C, False, 5, 2, 1)      36\n",
              "(O, True, 5, 2, 0)       37\n",
              "(C, True, 5, 2, 1)       38\n",
              "(C, False, 0, 1, 0)      39\n",
              "(C, False, 0, 0, 4)      40\n",
              "(C, False, 4, 3, 0)      41\n",
              "(O, False, 4, 2, 0)      42\n",
              "(O, False, 0, 0, 2)      43\n",
              "dtype: int64"
            ]
          },
          "metadata": {},
          "execution_count": 26
        }
      ]
    },
    {
      "cell_type": "code",
      "metadata": {
        "colab": {
          "base_uri": "https://localhost:8080/"
        },
        "id": "wtwZKZgaFG73",
        "outputId": "3e3e39e6-a71b-4633-8098-ae081773d1eb"
      },
      "source": [
        "preprocessor.construct_feature_matrices('CCO', train=False)['atom']"
      ],
      "execution_count": null,
      "outputs": [
        {
          "output_type": "execute_result",
          "data": {
            "text/plain": [
              "array([ 2,  7, 11], dtype=int32)"
            ]
          },
          "metadata": {},
          "execution_count": 27
        }
      ]
    },
    {
      "cell_type": "code",
      "metadata": {
        "colab": {
          "base_uri": "https://localhost:8080/"
        },
        "id": "2ZUP8sY0IjCI",
        "outputId": "725d81a4-cc79-4f63-fb63-c4e253c1aa99"
      },
      "source": [
        "preprocessor.construct_feature_matrices('CCO', train=False)['bond']"
      ],
      "execution_count": null,
      "outputs": [
        {
          "output_type": "execute_result",
          "data": {
            "text/plain": [
              "array([2, 2, 6, 8], dtype=int32)"
            ]
          },
          "metadata": {},
          "execution_count": 28
        }
      ]
    },
    {
      "cell_type": "code",
      "metadata": {
        "colab": {
          "base_uri": "https://localhost:8080/"
        },
        "id": "AVj7kTfSI0NN",
        "outputId": "b358509e-469c-474e-e8c8-462819ab976a"
      },
      "source": [
        "preprocessor.construct_feature_matrices('CCO', train=False)['connectivity']"
      ],
      "execution_count": null,
      "outputs": [
        {
          "output_type": "execute_result",
          "data": {
            "text/plain": [
              "array([[0, 1],\n",
              "       [1, 0],\n",
              "       [1, 2],\n",
              "       [2, 1]], dtype=int32)"
            ]
          },
          "metadata": {},
          "execution_count": 29
        }
      ]
    },
    {
      "cell_type": "markdown",
      "metadata": {
        "id": "dkIAw8jHEBkQ"
      },
      "source": [
        "We can use tensorflow's [`Dataset`](https://www.tensorflow.org/api_docs/python/tf/data/Dataset) methods to speedup and \"simplify\" some of these transformation operations. The easiest way to initialize these is from a python generator."
      ]
    },
    {
      "cell_type": "code",
      "metadata": {
        "id": "zYWAXyaOJIXO"
      },
      "source": [
        "def data_generator(logS_split):\n",
        "  for _, row in logS_split.iterrows():\n",
        "    inputs = preprocessor.construct_feature_matrices(row.SMILES, train=False)\n",
        "    yield ({'atom': inputs['atom'],\n",
        "            'bond': inputs['bond'],\n",
        "            'connectivity': inputs['connectivity']},\n",
        "           row.Solubility)\n",
        "\n",
        "output_signature = (preprocessor.output_signature,\n",
        "                    tf.TensorSpec(shape=(), dtype=tf.float32))"
      ],
      "execution_count": null,
      "outputs": []
    },
    {
      "cell_type": "code",
      "metadata": {
        "id": "kv6euAcNI5Rb"
      },
      "source": [
        "train_dataset = tf.data.Dataset.from_generator(\n",
        "    lambda: data_generator(logS_train),\n",
        "    output_signature=output_signature)\\\n",
        "    .cache().shuffle(buffer_size=200)\\\n",
        "    .padded_batch(batch_size=32)\\\n",
        "    .prefetch(tf.data.experimental.AUTOTUNE)\n",
        "\n",
        "valid_dataset = tf.data.Dataset.from_generator(\n",
        "    lambda: data_generator(logS_test),\n",
        "    output_signature=output_signature)\\\n",
        "    .cache().shuffle(buffer_size=200)\\\n",
        "    .padded_batch(batch_size=32)\\\n",
        "    .prefetch(tf.data.experimental.AUTOTUNE)"
      ],
      "execution_count": null,
      "outputs": []
    },
    {
      "cell_type": "code",
      "metadata": {
        "colab": {
          "base_uri": "https://localhost:8080/"
        },
        "id": "uSizqVzyL-pT",
        "outputId": "1ccb94e0-4308-4486-8572-619a524ed62f"
      },
      "source": [
        "# extract inputs, outputs from one batch (32 data points)\n",
        "for inputs, outputs in train_dataset.as_numpy_iterator():\n",
        "  break\n",
        "\n",
        "inputs['atom']"
      ],
      "execution_count": null,
      "outputs": [
        {
          "output_type": "execute_result",
          "data": {
            "text/plain": [
              "array([[ 2,  7, 10, ...,  0,  0,  0],\n",
              "       [ 2,  3,  4, ...,  0,  0,  0],\n",
              "       [ 2, 19, 18, ...,  0,  0,  0],\n",
              "       ...,\n",
              "       [ 2,  7,  3, ...,  4,  4,  4],\n",
              "       [ 2, 19, 15, ...,  0,  0,  0],\n",
              "       [ 2,  7, 19, ...,  0,  0,  0]], dtype=int32)"
            ]
          },
          "metadata": {},
          "execution_count": 35
        }
      ]
    },
    {
      "cell_type": "code",
      "metadata": {
        "colab": {
          "base_uri": "https://localhost:8080/"
        },
        "id": "DgOOVejWNoJL",
        "outputId": "4c38d1d8-1e43-4e36-bcb5-a24056e7954d"
      },
      "source": [
        "outputs"
      ],
      "execution_count": null,
      "outputs": [
        {
          "output_type": "execute_result",
          "data": {
            "text/plain": [
              "array([-3.5585928, -1.3879839, -4.740177 , -4.6267486, -3.9515188,\n",
              "       -2.4116683, -3.4953597, -2.8265355, -2.5936885, -2.7727895,\n",
              "       -2.6568928, -4.5985985, -2.4091287, -2.478579 , -0.6030114,\n",
              "       -4.1510887, -2.9776042, -1.3829101, -4.952869 , -3.5976238,\n",
              "       -3.5540595, -1.6471415, -1.4057515, -3.3940628, -1.2199585,\n",
              "       -2.6942897, -3.430239 , -3.2861164, -2.6532063, -4.5881767,\n",
              "       -4.6835904, -2.4548998], dtype=float32)"
            ]
          },
          "metadata": {},
          "execution_count": 36
        }
      ]
    },
    {
      "cell_type": "markdown",
      "metadata": {
        "id": "ONucQW01EVkq"
      },
      "source": [
        "Specifying our GNN using the [tf.keras functional api](https://www.tensorflow.org/guide/keras/functional). There's several alternative ways we could do this"
      ]
    },
    {
      "cell_type": "code",
      "metadata": {
        "id": "upjaOJDWOhmP"
      },
      "source": [
        "atom = layers.Input(shape=[None], dtype=tf.int32, name='atom')\n",
        "bond = layers.Input(shape=[None], dtype=tf.int32, name='bond')\n",
        "connectivity = layers.Input(shape=[None, 2], dtype=tf.int32, name='connectivity')\n",
        "\n",
        "\n",
        "num_features = 128\n",
        "\n",
        "atom_state = layers.Embedding(preprocessor.atom_classes, num_features,\n",
        "                              name='atom_embedding', mask_zero=True)(atom)\n",
        "\n",
        "bond_state = layers.Embedding(preprocessor.bond_classes, num_features,\n",
        "                              name='bond_embedding', mask_zero=True)(bond)\n",
        "\n",
        "atom_mean = layers.Embedding(preprocessor.atom_classes, 1,\n",
        "                             name='atom_mean', mask_zero=True)(atom)\n",
        "\n",
        "for _ in range(6):\n",
        "  new_bond_state = nfp.EdgeUpdate()([atom_state, bond_state, connectivity])\n",
        "  bond_state = layers.Add()([bond_state, new_bond_state])\n",
        "\n",
        "  new_atom_state = nfp.NodeUpdate()([atom_state, bond_state, connectivity])\n",
        "  atom_state = layers.Add()([atom_state, new_atom_state])\n",
        "\n",
        "atomwise_prediction = layers.Dense(1)(atom_state)\n",
        "atomwise_prediction = layers.Add()([atomwise_prediction, atom_mean])\n",
        "mol_prediction = layers.GlobalAveragePooling1D()(atomwise_prediction)\n",
        "\n",
        "gnn_model = tf.keras.Model([atom, bond, connectivity], [mol_prediction])"
      ],
      "execution_count": null,
      "outputs": []
    },
    {
      "cell_type": "code",
      "metadata": {
        "colab": {
          "base_uri": "https://localhost:8080/"
        },
        "id": "NZSo6K9qTNQo",
        "outputId": "03dc941f-e088-431d-a772-ad644bb91aa5"
      },
      "source": [
        "!pip install -U tensorflow-addons\n",
        "import tensorflow_addons as tfa"
      ],
      "execution_count": null,
      "outputs": [
        {
          "output_type": "stream",
          "name": "stdout",
          "text": [
            "Collecting tensorflow-addons\n",
            "  Downloading tensorflow_addons-0.23.0-cp310-cp310-manylinux_2_17_x86_64.manylinux2014_x86_64.whl (611 kB)\n",
            "\u001b[2K     \u001b[90m━━━━━━━━━━━━━━━━━━━━━━━━━━━━━━━━━━━━━━━━\u001b[0m \u001b[32m611.8/611.8 kB\u001b[0m \u001b[31m6.9 MB/s\u001b[0m eta \u001b[36m0:00:00\u001b[0m\n",
            "\u001b[?25hRequirement already satisfied: packaging in /usr/local/lib/python3.10/dist-packages (from tensorflow-addons) (23.2)\n",
            "Collecting typeguard<3.0.0,>=2.7 (from tensorflow-addons)\n",
            "  Downloading typeguard-2.13.3-py3-none-any.whl (17 kB)\n",
            "Installing collected packages: typeguard, tensorflow-addons\n",
            "Successfully installed tensorflow-addons-0.23.0 typeguard-2.13.3\n"
          ]
        },
        {
          "output_type": "stream",
          "name": "stderr",
          "text": [
            "/usr/local/lib/python3.10/dist-packages/tensorflow_addons/utils/tfa_eol_msg.py:23: UserWarning: \n",
            "\n",
            "TensorFlow Addons (TFA) has ended development and introduction of new features.\n",
            "TFA has entered a minimal maintenance and release mode until a planned end of life in May 2024.\n",
            "Please modify downstream libraries to take dependencies from other repositories in our TensorFlow community (e.g. Keras, Keras-CV, and Keras-NLP). \n",
            "\n",
            "For more information see: https://github.com/tensorflow/addons/issues/2807 \n",
            "\n",
            "  warnings.warn(\n"
          ]
        }
      ]
    },
    {
      "cell_type": "code",
      "metadata": {
        "id": "0k3Z5vAkRhS3"
      },
      "source": [
        "optimizer = tfa.optimizers.AdamW(learning_rate=1E-4, weight_decay=1E-5)\n",
        "gnn_model.compile(optimizer, loss='mae')"
      ],
      "execution_count": null,
      "outputs": []
    },
    {
      "cell_type": "code",
      "metadata": {
        "colab": {
          "base_uri": "https://localhost:8080/"
        },
        "id": "egFfMnLqTrNu",
        "outputId": "aa2b660b-b3bc-4ad7-ce0d-b03d189badf6"
      },
      "source": [
        "hist = gnn_model.fit(train_dataset, validation_data=valid_dataset, epochs=50, verbose=2)"
      ],
      "execution_count": null,
      "outputs": [
        {
          "output_type": "stream",
          "name": "stdout",
          "text": [
            "Epoch 1/50\n",
            "66/66 - 20s - loss: 1.5075 - val_loss: 1.2937 - 20s/epoch - 298ms/step\n",
            "Epoch 2/50\n",
            "66/66 - 4s - loss: 1.2331 - val_loss: 1.0937 - 4s/epoch - 58ms/step\n",
            "Epoch 3/50\n",
            "66/66 - 3s - loss: 1.0364 - val_loss: 0.9888 - 3s/epoch - 39ms/step\n",
            "Epoch 4/50\n",
            "66/66 - 3s - loss: 0.9352 - val_loss: 0.8745 - 3s/epoch - 38ms/step\n",
            "Epoch 5/50\n",
            "66/66 - 3s - loss: 0.8822 - val_loss: 0.8767 - 3s/epoch - 39ms/step\n",
            "Epoch 6/50\n",
            "66/66 - 3s - loss: 0.8182 - val_loss: 0.8403 - 3s/epoch - 43ms/step\n",
            "Epoch 7/50\n",
            "66/66 - 3s - loss: 0.7624 - val_loss: 0.7350 - 3s/epoch - 40ms/step\n",
            "Epoch 8/50\n",
            "66/66 - 3s - loss: 0.7099 - val_loss: 0.8046 - 3s/epoch - 39ms/step\n",
            "Epoch 9/50\n",
            "66/66 - 3s - loss: 0.7411 - val_loss: 0.7303 - 3s/epoch - 49ms/step\n",
            "Epoch 10/50\n",
            "66/66 - 3s - loss: 0.7335 - val_loss: 0.7612 - 3s/epoch - 39ms/step\n",
            "Epoch 11/50\n",
            "66/66 - 3s - loss: 0.6861 - val_loss: 0.7865 - 3s/epoch - 40ms/step\n",
            "Epoch 12/50\n",
            "66/66 - 3s - loss: 0.6657 - val_loss: 0.6952 - 3s/epoch - 48ms/step\n",
            "Epoch 13/50\n",
            "66/66 - 3s - loss: 0.6708 - val_loss: 0.8072 - 3s/epoch - 39ms/step\n",
            "Epoch 14/50\n",
            "66/66 - 3s - loss: 0.6755 - val_loss: 0.7055 - 3s/epoch - 39ms/step\n",
            "Epoch 15/50\n",
            "66/66 - 3s - loss: 0.6207 - val_loss: 0.7257 - 3s/epoch - 39ms/step\n",
            "Epoch 16/50\n",
            "66/66 - 3s - loss: 0.6348 - val_loss: 0.7199 - 3s/epoch - 48ms/step\n",
            "Epoch 17/50\n",
            "66/66 - 4s - loss: 0.6172 - val_loss: 0.7024 - 4s/epoch - 56ms/step\n",
            "Epoch 18/50\n",
            "66/66 - 3s - loss: 0.6137 - val_loss: 0.6553 - 3s/epoch - 38ms/step\n",
            "Epoch 19/50\n",
            "66/66 - 3s - loss: 0.5819 - val_loss: 0.7536 - 3s/epoch - 38ms/step\n",
            "Epoch 20/50\n",
            "66/66 - 4s - loss: 0.5846 - val_loss: 0.6383 - 4s/epoch - 54ms/step\n",
            "Epoch 21/50\n",
            "66/66 - 3s - loss: 0.5980 - val_loss: 0.6394 - 3s/epoch - 43ms/step\n",
            "Epoch 22/50\n",
            "66/66 - 3s - loss: 0.5898 - val_loss: 0.6427 - 3s/epoch - 38ms/step\n",
            "Epoch 23/50\n",
            "66/66 - 2s - loss: 0.5813 - val_loss: 0.6344 - 2s/epoch - 38ms/step\n",
            "Epoch 24/50\n",
            "66/66 - 3s - loss: 0.5938 - val_loss: 0.7324 - 3s/epoch - 39ms/step\n",
            "Epoch 25/50\n",
            "66/66 - 4s - loss: 0.5705 - val_loss: 0.6615 - 4s/epoch - 57ms/step\n",
            "Epoch 26/50\n",
            "66/66 - 3s - loss: 0.5539 - val_loss: 0.6821 - 3s/epoch - 39ms/step\n",
            "Epoch 27/50\n",
            "66/66 - 2s - loss: 0.5768 - val_loss: 0.6451 - 2s/epoch - 37ms/step\n",
            "Epoch 28/50\n",
            "66/66 - 3s - loss: 0.5457 - val_loss: 0.6554 - 3s/epoch - 38ms/step\n",
            "Epoch 29/50\n",
            "66/66 - 3s - loss: 0.5702 - val_loss: 0.6574 - 3s/epoch - 40ms/step\n",
            "Epoch 30/50\n",
            "66/66 - 3s - loss: 0.5444 - val_loss: 0.6372 - 3s/epoch - 52ms/step\n",
            "Epoch 31/50\n",
            "66/66 - 3s - loss: 0.5257 - val_loss: 0.6405 - 3s/epoch - 39ms/step\n",
            "Epoch 32/50\n",
            "66/66 - 3s - loss: 0.5243 - val_loss: 0.6719 - 3s/epoch - 38ms/step\n",
            "Epoch 33/50\n",
            "66/66 - 2s - loss: 0.5370 - val_loss: 0.6123 - 2s/epoch - 38ms/step\n",
            "Epoch 34/50\n",
            "66/66 - 3s - loss: 0.5246 - val_loss: 0.6423 - 3s/epoch - 44ms/step\n",
            "Epoch 35/50\n",
            "66/66 - 3s - loss: 0.5407 - val_loss: 0.6549 - 3s/epoch - 50ms/step\n",
            "Epoch 36/50\n",
            "66/66 - 3s - loss: 0.5166 - val_loss: 0.7156 - 3s/epoch - 38ms/step\n",
            "Epoch 37/50\n",
            "66/66 - 3s - loss: 0.5304 - val_loss: 0.6236 - 3s/epoch - 39ms/step\n",
            "Epoch 38/50\n",
            "66/66 - 3s - loss: 0.4983 - val_loss: 0.6278 - 3s/epoch - 39ms/step\n",
            "Epoch 39/50\n",
            "66/66 - 3s - loss: 0.5447 - val_loss: 0.6147 - 3s/epoch - 49ms/step\n",
            "Epoch 40/50\n",
            "66/66 - 3s - loss: 0.5097 - val_loss: 0.6345 - 3s/epoch - 39ms/step\n",
            "Epoch 41/50\n",
            "66/66 - 3s - loss: 0.4754 - val_loss: 0.6169 - 3s/epoch - 40ms/step\n",
            "Epoch 42/50\n",
            "66/66 - 3s - loss: 0.5079 - val_loss: 0.6303 - 3s/epoch - 50ms/step\n",
            "Epoch 43/50\n",
            "66/66 - 3s - loss: 0.4845 - val_loss: 0.6178 - 3s/epoch - 45ms/step\n",
            "Epoch 44/50\n",
            "66/66 - 3s - loss: 0.4760 - val_loss: 0.6483 - 3s/epoch - 38ms/step\n",
            "Epoch 45/50\n",
            "66/66 - 3s - loss: 0.4944 - val_loss: 0.6556 - 3s/epoch - 38ms/step\n",
            "Epoch 46/50\n",
            "66/66 - 2s - loss: 0.4824 - val_loss: 0.6244 - 2s/epoch - 38ms/step\n",
            "Epoch 47/50\n",
            "66/66 - 3s - loss: 0.4818 - val_loss: 0.6596 - 3s/epoch - 52ms/step\n",
            "Epoch 48/50\n",
            "66/66 - 3s - loss: 0.4697 - val_loss: 0.6010 - 3s/epoch - 39ms/step\n",
            "Epoch 49/50\n",
            "66/66 - 2s - loss: 0.4528 - val_loss: 0.6334 - 2s/epoch - 38ms/step\n",
            "Epoch 50/50\n",
            "66/66 - 3s - loss: 0.4549 - val_loss: 0.6288 - 3s/epoch - 39ms/step\n"
          ]
        }
      ]
    },
    {
      "cell_type": "code",
      "metadata": {
        "colab": {
          "base_uri": "https://localhost:8080/",
          "height": 447
        },
        "id": "akDYtQ_7T4kU",
        "outputId": "841e5b7f-1b43-42c1-9328-6504cd08095a"
      },
      "source": [
        "pd.DataFrame(hist.history).plot.line()"
      ],
      "execution_count": null,
      "outputs": [
        {
          "output_type": "execute_result",
          "data": {
            "text/plain": [
              "<Axes: >"
            ]
          },
          "metadata": {},
          "execution_count": 41
        },
        {
          "output_type": "display_data",
          "data": {
            "text/plain": [
              "<Figure size 640x480 with 1 Axes>"
            ],
            "image/png": "[encoded data removed]"
          },
          "metadata": {}
        }
      ]
    },
    {
      "cell_type": "code",
      "metadata": {
        "colab": {
          "base_uri": "https://localhost:8080/"
        },
        "id": "WcKfEDLZVsK6",
        "outputId": "4c99a4b7-3bb0-46bc-da73-f98b1a842945"
      },
      "source": [
        "inputs = preprocessor.construct_feature_matrices('CC(C)COCC(C)C')\n",
        "gnn_model.predict({key: np.expand_dims(inputs[key], axis=0) for key in ['atom', 'bond', 'connectivity']})"
      ],
      "execution_count": null,
      "outputs": [
        {
          "output_type": "stream",
          "name": "stdout",
          "text": [
            "1/1 [==============================] - 2s 2s/step\n"
          ]
        },
        {
          "output_type": "execute_result",
          "data": {
            "text/plain": [
              "array([[-2.1069276]], dtype=float32)"
            ]
          },
          "metadata": {},
          "execution_count": 42
        }
      ]
    },
    {
      "cell_type": "code",
      "source": [],
      "metadata": {
        "id": "xKCOnkauAW3d"
      },
      "execution_count": null,
      "outputs": []
    }
  ]
}